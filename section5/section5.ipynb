{
 "cells": [
  {
   "cell_type": "markdown",
   "metadata": {},
   "source": [
    "**1. Import libraries**"
   ]
  },
  {
   "cell_type": "code",
   "execution_count": 1,
   "metadata": {},
   "outputs": [],
   "source": [
    "import pandas as pd\n",
    "import numpy as np\n",
    "from sklearn.model_selection import train_test_split\n",
    "from sklearn.tree import DecisionTreeRegressor\n",
    "from sklearn.metrics import mean_squared_error, r2_score\n"
   ]
  },
  {
   "attachments": {},
   "cell_type": "markdown",
   "metadata": {},
   "source": [
    "**2. Fetch data from url and output to dataframe for processing**"
   ]
  },
  {
   "cell_type": "code",
   "execution_count": 2,
   "metadata": {},
   "outputs": [
    {
     "data": {
      "text/html": [
       "<div>\n",
       "<style scoped>\n",
       "    .dataframe tbody tr th:only-of-type {\n",
       "        vertical-align: middle;\n",
       "    }\n",
       "\n",
       "    .dataframe tbody tr th {\n",
       "        vertical-align: top;\n",
       "    }\n",
       "\n",
       "    .dataframe thead th {\n",
       "        text-align: right;\n",
       "    }\n",
       "</style>\n",
       "<table border=\"1\" class=\"dataframe\">\n",
       "  <thead>\n",
       "    <tr style=\"text-align: right;\">\n",
       "      <th></th>\n",
       "      <th>buying</th>\n",
       "      <th>maint</th>\n",
       "      <th>doors</th>\n",
       "      <th>lug_boot</th>\n",
       "      <th>safety</th>\n",
       "      <th>class</th>\n",
       "    </tr>\n",
       "  </thead>\n",
       "  <tbody>\n",
       "    <tr>\n",
       "      <th>1718</th>\n",
       "      <td>low</td>\n",
       "      <td>low</td>\n",
       "      <td>5more</td>\n",
       "      <td>big</td>\n",
       "      <td>high</td>\n",
       "      <td>vgood</td>\n",
       "    </tr>\n",
       "    <tr>\n",
       "      <th>1719</th>\n",
       "      <td>low</td>\n",
       "      <td>low</td>\n",
       "      <td>5more</td>\n",
       "      <td>small</td>\n",
       "      <td>low</td>\n",
       "      <td>unacc</td>\n",
       "    </tr>\n",
       "    <tr>\n",
       "      <th>1720</th>\n",
       "      <td>low</td>\n",
       "      <td>low</td>\n",
       "      <td>5more</td>\n",
       "      <td>small</td>\n",
       "      <td>med</td>\n",
       "      <td>acc</td>\n",
       "    </tr>\n",
       "    <tr>\n",
       "      <th>1721</th>\n",
       "      <td>low</td>\n",
       "      <td>low</td>\n",
       "      <td>5more</td>\n",
       "      <td>small</td>\n",
       "      <td>high</td>\n",
       "      <td>good</td>\n",
       "    </tr>\n",
       "    <tr>\n",
       "      <th>1722</th>\n",
       "      <td>low</td>\n",
       "      <td>low</td>\n",
       "      <td>5more</td>\n",
       "      <td>med</td>\n",
       "      <td>low</td>\n",
       "      <td>unacc</td>\n",
       "    </tr>\n",
       "    <tr>\n",
       "      <th>1723</th>\n",
       "      <td>low</td>\n",
       "      <td>low</td>\n",
       "      <td>5more</td>\n",
       "      <td>med</td>\n",
       "      <td>med</td>\n",
       "      <td>good</td>\n",
       "    </tr>\n",
       "    <tr>\n",
       "      <th>1724</th>\n",
       "      <td>low</td>\n",
       "      <td>low</td>\n",
       "      <td>5more</td>\n",
       "      <td>med</td>\n",
       "      <td>high</td>\n",
       "      <td>vgood</td>\n",
       "    </tr>\n",
       "    <tr>\n",
       "      <th>1725</th>\n",
       "      <td>low</td>\n",
       "      <td>low</td>\n",
       "      <td>5more</td>\n",
       "      <td>big</td>\n",
       "      <td>low</td>\n",
       "      <td>unacc</td>\n",
       "    </tr>\n",
       "    <tr>\n",
       "      <th>1726</th>\n",
       "      <td>low</td>\n",
       "      <td>low</td>\n",
       "      <td>5more</td>\n",
       "      <td>big</td>\n",
       "      <td>med</td>\n",
       "      <td>good</td>\n",
       "    </tr>\n",
       "    <tr>\n",
       "      <th>1727</th>\n",
       "      <td>low</td>\n",
       "      <td>low</td>\n",
       "      <td>5more</td>\n",
       "      <td>big</td>\n",
       "      <td>high</td>\n",
       "      <td>vgood</td>\n",
       "    </tr>\n",
       "  </tbody>\n",
       "</table>\n",
       "</div>"
      ],
      "text/plain": [
       "     buying maint  doors lug_boot safety  class\n",
       "1718    low   low  5more      big   high  vgood\n",
       "1719    low   low  5more    small    low  unacc\n",
       "1720    low   low  5more    small    med    acc\n",
       "1721    low   low  5more    small   high   good\n",
       "1722    low   low  5more      med    low  unacc\n",
       "1723    low   low  5more      med    med   good\n",
       "1724    low   low  5more      med   high  vgood\n",
       "1725    low   low  5more      big    low  unacc\n",
       "1726    low   low  5more      big    med   good\n",
       "1727    low   low  5more      big   high  vgood"
      ]
     },
     "execution_count": 2,
     "metadata": {},
     "output_type": "execute_result"
    }
   ],
   "source": [
    "# Load the car.data dataset into a dataframe and preprocess it\n",
    "url = 'https://archive.ics.uci.edu/ml/machine-learning-databases/car/car.data'\n",
    "headers = ['buying', 'maint', 'doors', 'persons', 'lug_boot', 'safety', 'class']\n",
    "df = pd.read_csv(url, header=None, names=headers)\n",
    "# drop column that are not use as parameter\n",
    "df = df.drop(columns='persons')\n",
    "\n",
    "df.tail(10)"
   ]
  },
  {
   "attachments": {},
   "cell_type": "markdown",
   "metadata": {},
   "source": [
    "**3. Prepare Data for training and tesing**"
   ]
  },
  {
   "cell_type": "code",
   "execution_count": 3,
   "metadata": {},
   "outputs": [],
   "source": [
    "# replace Attribute Values from car.names to integers\n",
    "df['buying'] = df['buying'].replace([\"vhigh\", \"high\", \"med\", \"low\"], [4, 3, 2, 1])\n",
    "df['maint'] = df['maint'].replace([\"vhigh\", \"high\", \"med\", \"low\"], [4, 3, 2, 1])\n",
    "df['doors'] = df['doors'].replace([\"2\", \"3\", \"4\", \"5more\"], [2, 3, 4, 5])\n",
    "df['lug_boot'] = df['lug_boot'].replace([\"small\", \"med\", \"big\"], [1, 2, 3])\n",
    "df['safety'] = df['safety'].replace([\"low\", \"med\", \"high\"], [1, 2, 3])\n",
    "df['class'] = df['class'].replace([\"unacc\", \"acc\", \"good\", \"vgood\"], [1, 2, 3, 4])\n",
    "# note to remote all hyphen for column names\n",
    "\n",
    "df.tail(10)\n",
    "\n",
    "# map the prediction parameters to integers\n",
    "# Maintenance = High ~> 3\n",
    "# Number of doors = 4 ~> 4\n",
    "# Lug Boot Size = Big ~> 3\n",
    "# Safety = High ~> 3\n",
    "# Class Value = Good ~> 3\n",
    "\n",
    "to_predict_values = [[3, 4, 3, 3, 3]]\n"
   ]
  },
  {
   "attachments": {},
   "cell_type": "markdown",
   "metadata": {},
   "source": [
    "**4. Split data into input and output for training and testing**"
   ]
  },
  {
   "cell_type": "code",
   "execution_count": 4,
   "metadata": {},
   "outputs": [],
   "source": [
    "#input data\n",
    "X = df[['maint', 'doors', 'lug_boot', 'safety', 'class']]\n",
    "\n",
    "#output data\n",
    "Y = df['buying']\n",
    "\n",
    "# split arrays into random train and test subsets, test size is set to 20% thus the remaining 80% will be training size. \n",
    "# value ranging 0.2 to 0.3 are the popular spliting ratio\n",
    "x_train, x_test, y_train, y_test = train_test_split(X, Y, test_size=0.2)"
   ]
  },
  {
   "attachments": {},
   "cell_type": "markdown",
   "metadata": {},
   "source": [
    "**5. Build & train decision tree regression model**"
   ]
  },
  {
   "cell_type": "code",
   "execution_count": 5,
   "metadata": {},
   "outputs": [],
   "source": [
    "# decision tree regression is chosen for the algorithm to train the model\n",
    "# Train the decision tree regression model, using fit function to find the optimal split points that minimize the mean squared error between the predicted values and the actual values in the training data.\n",
    "dtr = DecisionTreeRegressor().fit(x_train, y_train)"
   ]
  },
  {
   "attachments": {},
   "cell_type": "markdown",
   "metadata": {},
   "source": [
    "**6. Model Evaluation**"
   ]
  },
  {
   "cell_type": "code",
   "execution_count": 6,
   "metadata": {},
   "outputs": [
    {
     "name": "stdout",
     "output_type": "stream",
     "text": [
      "Mean Squared Error: 1.28\n",
      "R-squared: -0.10\n"
     ]
    }
   ],
   "source": [
    "# mean_squared_error estimates the average squared difference between the predicted values and the actual values\n",
    "# r2 score indicates the goodness of fit, measuring how well the model will predict unseen data samples\n",
    "y_pred = dtr.predict(x_test)\n",
    "mse = mean_squared_error(y_test, y_pred)\n",
    "r2 = r2_score(y_test, y_pred)\n",
    "# format the output to floating-point number with two decimal places\n",
    "print('Mean Squared Error: {:.2f}'.format(mse))\n",
    "print('R-squared: {:.2f}'.format(r2))"
   ]
  },
  {
   "attachments": {},
   "cell_type": "markdown",
   "metadata": {},
   "source": [
    "**7. Model Prediction**"
   ]
  },
  {
   "cell_type": "code",
   "execution_count": 7,
   "metadata": {},
   "outputs": [
    {
     "name": "stdout",
     "output_type": "stream",
     "text": [
      "Predicted Buying Price: low\n"
     ]
    },
    {
     "name": "stderr",
     "output_type": "stream",
     "text": [
      "c:\\Users\\ling-\\anaconda3\\lib\\site-packages\\sklearn\\base.py:450: UserWarning: X does not have valid feature names, but DecisionTreeRegressor was fitted with feature names\n",
      "  warnings.warn(\n"
     ]
    }
   ],
   "source": [
    "# Predict the buying price for a car with \"to_predict_values\" variable \n",
    "from enum import Enum\n",
    "\n",
    "class buying(Enum):\n",
    "    vhigh = 4\n",
    "    high = 3\n",
    "    med = 2\n",
    "    low = 1\n",
    "\n",
    "out = buying(dtr.predict(to_predict_values))\n",
    "out_str = buying(out).name\n",
    "print('Predicted Buying Price: ' + out_str)"
   ]
  },
  {
   "attachments": {},
   "cell_type": "markdown",
   "metadata": {},
   "source": [
    "Model prediction = low buying price for the following attributes:\n",
    "\n",
    "* Maintenance = High \n",
    "* Number of doors = 4 \n",
    "* Lug Boot Size = Big \n",
    "* Safety = High \n",
    "* Class Value = Good \n"
   ]
  }
 ],
 "metadata": {
  "kernelspec": {
   "display_name": "Python 3",
   "language": "python",
   "name": "python3"
  },
  "language_info": {
   "codemirror_mode": {
    "name": "ipython",
    "version": 3
   },
   "file_extension": ".py",
   "mimetype": "text/x-python",
   "name": "python",
   "nbconvert_exporter": "python",
   "pygments_lexer": "ipython3",
   "version": "3.9.13"
  },
  "orig_nbformat": 4
 },
 "nbformat": 4,
 "nbformat_minor": 2
}
